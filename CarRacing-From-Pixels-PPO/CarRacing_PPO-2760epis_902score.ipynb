{
 "cells": [
  {
   "cell_type": "markdown",
   "metadata": {},
   "source": [
    "### 1. Import"
   ]
  },
  {
   "cell_type": "code",
   "execution_count": 1,
   "metadata": {},
   "outputs": [
    {
     "name": "stdout",
     "output_type": "stream",
     "text": [
      "device:  cuda\n"
     ]
    },
    {
     "name": "stderr",
     "output_type": "stream",
     "text": [
      "/home/dan/anaconda3/envs/rl/lib/python3.7/site-packages/gym/logger.py:30: UserWarning: \u001b[33mWARN: Box bound precision lowered by casting to float32\u001b[0m\n",
      "  warnings.warn(colorize('%s: %s'%('WARN', msg % args), 'yellow'))\n"
     ]
    },
    {
     "name": "stdout",
     "output_type": "stream",
     "text": [
      "env.action_space.shape:  (3,)\n",
      "reward_threshold 900\n"
     ]
    }
   ],
   "source": [
    "import numpy as np\n",
    "import gym\n",
    "import torch\n",
    "import torch.nn as nn\n",
    "import torch.nn.functional as F\n",
    "import torch.optim as optim\n",
    "from torch.distributions import Beta\n",
    "from torch.utils.data.sampler import BatchSampler, SubsetRandomSampler\n",
    "from agent import Agent, img_stack\n",
    "import time\n",
    "from collections import deque\n",
    "import matplotlib\n",
    "import matplotlib.pyplot as plt\n",
    "\n",
    "\n",
    "device = torch.device(\"cuda\" if torch.cuda.is_available() else \"cpu\")\n",
    "print('device: ', device)\n",
    "\n",
    "seed = 0 \n",
    "torch.manual_seed(seed)\n",
    "torch.cuda.manual_seed(seed)\n",
    "np.random.seed(seed)\n",
    "\n",
    "action_repeat = 10\n",
    "env = gym.make('CarRacing-v0', verbose=0)\n",
    "state = env.reset()\n",
    "print('env.action_space.shape: ', env.action_space.shape)\n",
    "reward_threshold = env.spec.reward_threshold\n",
    "print('reward_threshold', reward_threshold)\n",
    "\n",
    "\n",
    "\n",
    "agent = Agent(device)"
   ]
  },
  {
   "cell_type": "markdown",
   "metadata": {},
   "source": [
    "### 2. Image Preprocessing"
   ]
  },
  {
   "cell_type": "code",
   "execution_count": 2,
   "metadata": {},
   "outputs": [
    {
     "name": "stdout",
     "output_type": "stream",
     "text": [
      "frame.shape:  (96, 96, 3)\n",
      "img.shape:  (96, 96)\n"
     ]
    },
    {
     "data": {
      "image/png": "[encoded data removed]",
      "text/plain": [
       "<Figure size 432x288 with 2 Axes>"
      ]
     },
     "metadata": {
      "needs_background": "light"
     },
     "output_type": "display_data"
    }
   ],
   "source": [
    "# show what a preprocessed image looks like\n",
    "frame, _, _, _ = env.step(np.array([2., 1., 1.]))\n",
    "\n",
    "print('frame.shape: ', frame.shape)\n",
    "plt.subplot(1,2,1)\n",
    "plt.imshow(frame)\n",
    "plt.title('original image')\n",
    "\n",
    "#-------------------------------#\n",
    "\n",
    "def rgb2gray(rgb, norm=True):\n",
    "        # rgb image -> gray [0, 1]\n",
    "    gray = np.dot(rgb[..., :], [0.299, 0.587, 0.114])\n",
    "    if norm:\n",
    "        # normalize\n",
    "        gray = gray / 128. - 1.\n",
    "    return gray\n",
    "\n",
    "img_gray = rgb2gray(frame)\n",
    "\n",
    "#-------------------------------# \n",
    "plt.subplot(1,2,2)\n",
    "plt.title('preprocessed image')\n",
    "\n",
    "print('img.shape: ', img_gray.shape)\n",
    "\n",
    "# 96 x 96 black and white image\n",
    "plt.imshow(img_gray, cmap='Greys')\n",
    "plt.show()"
   ]
  },
  {
   "cell_type": "markdown",
   "metadata": {},
   "source": [
    "### 2. Class  Wrapper"
   ]
  },
  {
   "cell_type": "code",
   "execution_count": 3,
   "metadata": {},
   "outputs": [],
   "source": [
    "class Wrapper():\n",
    "    \"\"\"\n",
    "    Environment wrapper for CarRacing \n",
    "    \"\"\"\n",
    "\n",
    "    def __init__(self, env):\n",
    "        self.env = env  \n",
    "\n",
    "    def reset(self):\n",
    "        self.counter = 0\n",
    "        self.av_r = self.reward_memory()\n",
    "\n",
    "        self.die = False\n",
    "        img_rgb = env.reset()\n",
    "        img_gray = rgb2gray(img_rgb)\n",
    "        self.stack = [img_gray] * img_stack  # four frames for decision\n",
    "        return np.array(self.stack)\n",
    "\n",
    "    def step(self, action):\n",
    "        total_reward = 0\n",
    "        for i in range(action_repeat):\n",
    "            img_rgb, reward, die, _ = env.step(action)\n",
    "            # don't penalize \"die state\"\n",
    "            if die:\n",
    "                reward += 100\n",
    "            # green penalty\n",
    "            if np.mean(img_rgb[:, :, 1]) > 185.0:\n",
    "                reward -= 0.05\n",
    "            total_reward += reward\n",
    "            # if no reward recently, end the episode\n",
    "            done = True if self.av_r(reward) <= -0.1 else False\n",
    "            if done or die:\n",
    "                break\n",
    "        img_gray = rgb2gray(img_rgb)\n",
    "        self.stack.pop(0)\n",
    "        self.stack.append(img_gray)\n",
    "        assert len(self.stack) == img_stack\n",
    "        return np.array(self.stack), total_reward, done, die\n",
    "\n",
    "\n",
    "    @staticmethod\n",
    "    def reward_memory():\n",
    "        # record reward for last 100 steps\n",
    "        count = 0\n",
    "        length = 100\n",
    "        history = np.zeros(length)\n",
    "\n",
    "        def memory(reward):\n",
    "            nonlocal count\n",
    "            history[count] = reward\n",
    "            count = (count + 1) % length\n",
    "            return np.mean(history)\n",
    "\n",
    "        return memory"
   ]
  },
  {
   "cell_type": "code",
   "execution_count": 4,
   "metadata": {},
   "outputs": [],
   "source": [
    "def save(agent, directory, filename, suffix):\n",
    "    torch.save(agent.net.state_dict(), '%s/%s_%s.pth' % (directory, filename, suffix))    "
   ]
  },
  {
   "cell_type": "code",
   "execution_count": 5,
   "metadata": {},
   "outputs": [],
   "source": [
    "def load(agent, directory, filename, suffix):\n",
    "    agent.net.load_state_dict(torch.load('%s/%s_%s.pth' % (directory, filename, suffix)))\n",
    "load(agent, 'dir_chk', 'model_weights','final')"
   ]
  },
  {
   "cell_type": "code",
   "execution_count": 6,
   "metadata": {},
   "outputs": [],
   "source": [
    "import os\n",
    "def load2(agent, directory, filename):\n",
    "    agent.net.load_state_dict(torch.load(os.path.join(directory,filename)))"
   ]
  },
  {
   "cell_type": "code",
   "execution_count": 7,
   "metadata": {},
   "outputs": [
    {
     "name": "stdout",
     "output_type": "stream",
     "text": [
      "1617\n"
     ]
    }
   ],
   "source": [
    "import json\n",
    "with open(\"metadata_0003L2.json\",\"r\") as file:\n",
    "    obj = json.load(file)\n",
    "    scores = obj[\"scores_array\"]\n",
    "    avg_scores = obj[\"avg_scores_array\"]"
   ]
  },
  {
   "cell_type": "markdown",
   "metadata": {},
   "source": [
    "### 2. Train Agent\n"
   ]
  },
  {
   "cell_type": "code",
   "execution_count": 9,
   "metadata": {},
   "outputs": [
    {
     "name": "stdout",
     "output_type": "stream",
     "text": [
      "Ep. 0, Ep.Timesteps 100, Score: 859.53, Avg.Score: 859.53, Run.Score 8.60, Time: 00:00:09 \n",
      "Ep. 1, Ep.Timesteps 100, Score: 926.17, Avg.Score: 892.85, Run.Score 17.77, Time: 00:00:17 \n",
      "Ep. 2, Ep.Timesteps 99, Score: 1001.90, Avg.Score: 929.20, Run.Score 27.61, Time: 00:00:25 \n",
      "Ep. 3, Ep.Timesteps 100, Score: 896.02, Avg.Score: 920.91, Run.Score 36.30, Time: 00:00:33 \n",
      "Ep. 4, Ep.Timesteps 100, Score: 934.78, Avg.Score: 923.68, Run.Score 45.28, Time: 00:00:41 \n",
      "Ep. 5, Ep.Timesteps 100, Score: 936.45, Avg.Score: 925.81, Run.Score 54.19, Time: 00:00:50 \n",
      "Ep. 6, Ep.Timesteps 100, Score: 863.33, Avg.Score: 916.89, Run.Score 62.28, Time: 00:00:58 \n",
      "Ep. 7, Ep.Timesteps 100, Score: 921.77, Avg.Score: 917.50, Run.Score 70.88, Time: 00:01:06 \n",
      "Ep. 8, Ep.Timesteps 100, Score: 862.54, Avg.Score: 911.39, Run.Score 78.80, Time: 00:01:14 \n",
      "Ep. 9, Ep.Timesteps 100, Score: 793.55, Avg.Score: 899.61, Run.Score 85.94, Time: 00:01:22 \n",
      "Ep. 10, Ep.Timesteps 100, Score: 955.02, Avg.Score: 904.64, Run.Score 94.63, Time: 00:01:30 \n",
      "updating\n",
      "Ep. 11, Ep.Timesteps 100, Score: 986.84, Avg.Score: 911.49, Run.Score 103.56, Time: 00:01:51 \n",
      "Ep. 12, Ep.Timesteps 100, Score: 992.83, Avg.Score: 917.75, Run.Score 112.45, Time: 00:01:59 \n",
      "Ep. 13, Ep.Timesteps 100, Score: 900.33, Avg.Score: 916.51, Run.Score 120.33, Time: 00:02:07 \n",
      "Ep. 14, Ep.Timesteps 100, Score: 974.11, Avg.Score: 920.35, Run.Score 128.87, Time: 00:02:15 \n",
      "Ep. 15, Ep.Timesteps 100, Score: 962.81, Avg.Score: 923.00, Run.Score 137.21, Time: 00:02:23 \n",
      "Ep. 16, Ep.Timesteps 100, Score: 977.70, Avg.Score: 926.22, Run.Score 145.61, Time: 00:02:31 \n",
      "Ep. 17, Ep.Timesteps 100, Score: 985.77, Avg.Score: 929.53, Run.Score 154.01, Time: 00:02:39 \n",
      "Ep. 18, Ep.Timesteps 100, Score: 846.15, Avg.Score: 925.14, Run.Score 160.93, Time: 00:02:48 \n",
      "Ep. 19, Ep.Timesteps 100, Score: 912.73, Avg.Score: 924.52, Run.Score 168.45, Time: 00:02:56 \n",
      "Ep. 20, Ep.Timesteps 100, Score: 782.05, Avg.Score: 917.73, Run.Score 174.59, Time: 00:03:04 \n",
      "Ep. 21, Ep.Timesteps 93, Score: 1007.80, Avg.Score: 921.83, Run.Score 182.92, Time: 00:03:11 \n",
      "Ep. 22, Ep.Timesteps 98, Score: 1002.90, Avg.Score: 925.35, Run.Score 191.12, Time: 00:03:19 \n",
      "Ep. 23, Ep.Timesteps 100, Score: 903.23, Avg.Score: 924.43, Run.Score 198.24, Time: 00:03:27 \n",
      "updating\n",
      "Ep. 24, Ep.Timesteps 100, Score: 934.43, Avg.Score: 924.83, Run.Score 205.60, Time: 00:03:47 \n",
      "Ep. 25, Ep.Timesteps 100, Score: 889.24, Avg.Score: 923.46, Run.Score 212.44, Time: 00:03:56 \n",
      "Ep. 26, Ep.Timesteps 100, Score: 971.93, Avg.Score: 925.26, Run.Score 220.03, Time: 00:04:05 \n",
      "Ep. 27, Ep.Timesteps 100, Score: 910.78, Avg.Score: 924.74, Run.Score 226.94, Time: 00:04:14 \n",
      "Ep. 28, Ep.Timesteps 98, Score: 1002.00, Avg.Score: 927.40, Run.Score 234.69, Time: 00:04:22 \n",
      "Ep. 29, Ep.Timesteps 100, Score: 907.28, Avg.Score: 926.73, Run.Score 241.42, Time: 00:04:31 \n",
      "Ep. 30, Ep.Timesteps 100, Score: 982.70, Avg.Score: 928.54, Run.Score 248.83, Time: 00:04:40 \n",
      "Ep. 31, Ep.Timesteps 100, Score: 953.74, Avg.Score: 929.33, Run.Score 255.88, Time: 00:04:49 \n",
      "Ep. 32, Ep.Timesteps 100, Score: 972.32, Avg.Score: 930.63, Run.Score 263.04, Time: 00:04:58 \n",
      "Ep. 33, Ep.Timesteps 92, Score: 886.58, Avg.Score: 929.33, Run.Score 269.28, Time: 00:05:05 \n",
      "Ep. 34, Ep.Timesteps 100, Score: 935.15, Avg.Score: 929.50, Run.Score 275.94, Time: 00:05:14 \n",
      "Ep. 35, Ep.Timesteps 100, Score: 988.81, Avg.Score: 931.15, Run.Score 283.07, Time: 00:05:23 \n",
      "Ep. 36, Ep.Timesteps 100, Score: 953.95, Avg.Score: 931.76, Run.Score 289.78, Time: 00:05:32 \n",
      "updating\n",
      "Ep. 37, Ep.Timesteps 100, Score: 766.96, Avg.Score: 927.43, Run.Score 294.55, Time: 00:05:54 \n",
      "Ep. 38, Ep.Timesteps 100, Score: 796.49, Avg.Score: 924.07, Run.Score 299.57, Time: 00:06:02 \n",
      "Ep. 39, Ep.Timesteps 100, Score: 858.93, Avg.Score: 922.44, Run.Score 305.16, Time: 00:06:10 \n",
      "Ep. 40, Ep.Timesteps 100, Score: 955.88, Avg.Score: 923.26, Run.Score 311.67, Time: 00:06:18 \n",
      "Ep. 41, Ep.Timesteps 100, Score: 871.38, Avg.Score: 922.02, Run.Score 317.26, Time: 00:06:26 \n",
      "Ep. 42, Ep.Timesteps 100, Score: 989.40, Avg.Score: 923.59, Run.Score 323.99, Time: 00:06:34 \n",
      "Ep. 43, Ep.Timesteps 100, Score: 962.20, Avg.Score: 924.47, Run.Score 330.37, Time: 00:06:42 \n",
      "Ep. 44, Ep.Timesteps 100, Score: 906.25, Avg.Score: 924.06, Run.Score 336.13, Time: 00:06:51 \n",
      "Ep. 45, Ep.Timesteps 100, Score: 830.77, Avg.Score: 922.03, Run.Score 341.07, Time: 00:06:59 \n",
      "Ep. 46, Ep.Timesteps 100, Score: 860.12, Avg.Score: 920.72, Run.Score 346.26, Time: 00:07:08 \n",
      "Ep. 47, Ep.Timesteps 100, Score: 1000.60, Avg.Score: 922.38, Run.Score 352.81, Time: 00:07:15 \n",
      "Ep. 48, Ep.Timesteps 100, Score: 892.16, Avg.Score: 921.76, Run.Score 358.20, Time: 00:07:24 \n",
      "Ep. 49, Ep.Timesteps 100, Score: 970.15, Avg.Score: 922.73, Run.Score 364.32, Time: 00:07:31 \n",
      "updating\n",
      "Ep. 50, Ep.Timesteps 93, Score: 1007.00, Avg.Score: 924.38, Run.Score 370.75, Time: 00:07:51 \n",
      "Ep. 51, Ep.Timesteps 91, Score: 1009.20, Avg.Score: 926.01, Run.Score 377.13, Time: 00:07:58 \n",
      "Ep. 52, Ep.Timesteps 100, Score: 939.30, Avg.Score: 926.26, Run.Score 382.75, Time: 00:08:06 \n",
      "Ep. 53, Ep.Timesteps 100, Score: 970.37, Avg.Score: 927.08, Run.Score 388.63, Time: 00:08:14 \n",
      "Ep. 54, Ep.Timesteps 100, Score: 927.90, Avg.Score: 927.10, Run.Score 394.02, Time: 00:08:22 \n",
      "Ep. 55, Ep.Timesteps 86, Score: 1014.30, Avg.Score: 928.65, Run.Score 400.22, Time: 00:08:28 \n",
      "Ep. 56, Ep.Timesteps 99, Score: 1001.80, Avg.Score: 929.94, Run.Score 406.24, Time: 00:08:36 \n",
      "Ep. 57, Ep.Timesteps 98, Score: 1002.30, Avg.Score: 931.18, Run.Score 412.20, Time: 00:08:44 \n",
      "reached convergence\n"
     ]
    }
   ],
   "source": [
    "\n",
    "env_wrap = Wrapper(env)\n",
    "\n",
    "limits = [200, 400, 600, 800, 830, 870, 900]\n",
    "\n",
    "def return_suffix(j):\n",
    "    suf = '0'\n",
    "    for i in range(len(limits)-1):\n",
    "        if j > limits[i] and j < limits[i+1]:\n",
    "            suf = str(limits[i+1])\n",
    "            break\n",
    "        \n",
    "        i_last = len(limits)-1    \n",
    "        if  j > limits[i_last]:\n",
    "            suf = str(limits[i_last])\n",
    "            break\n",
    "    return suf           \n",
    "\n",
    "\n",
    "def ppo_train(n_episodes=5000, save_every=500,convergence_check_it = 0):\n",
    "    load2(agent, 'dir_chk', 'model_weights_final.pth')\n",
    "    scores_deque = deque(maxlen=100)\n",
    "#     scores_array = []\n",
    "#     avg_scores_array = []\n",
    "    scores_array = scores\n",
    "    avg_scores_array = avg_scores\n",
    "\n",
    "    timestep_after_last_save = 0\n",
    "    \n",
    "    time_start = time.time()\n",
    "\n",
    "    running_score = 0\n",
    "    state = env_wrap.reset()\n",
    "    \n",
    "    since_improve = 0\n",
    "    max_avg = -100000\n",
    "    \n",
    "    for i_episode in range(n_episodes):\n",
    "        \n",
    "        timestep = 0\n",
    "        total_reward = 0\n",
    "        \n",
    "        ## score = 0\n",
    "        state = env_wrap.reset()\n",
    "\n",
    "        while True:    \n",
    "            \n",
    "            action, a_logp = agent.select_action(state)\n",
    "            next_state, reward, done, die = env_wrap.step( \n",
    "                action * np.array([2., 1., 1.]) + np.array([-1., 0., 0.]))\n",
    "\n",
    "            if agent.store((state, action, a_logp, reward, next_state)):\n",
    "                print('updating')\n",
    "                agent.update()\n",
    "            \n",
    "            total_reward += reward\n",
    "            state = next_state\n",
    "            \n",
    "            timestep += 1  \n",
    "            timestep_after_last_save += 1\n",
    "            \n",
    "            if done or die:\n",
    "                break\n",
    "                \n",
    "        running_score = running_score * 0.99 + total_reward * 0.01\n",
    "\n",
    "        scores_deque.append(total_reward)\n",
    "        scores_array.append(total_reward)\n",
    "\n",
    "        avg_score = np.mean(scores_deque)\n",
    "        avg_scores_array.append(avg_score)\n",
    "        \n",
    "        if avg_score > max_avg:\n",
    "            max_avg = avg_score\n",
    "            since_improve = 0\n",
    "        else:\n",
    "            since_improve += 1\n",
    "        \n",
    "        s = (int)(time.time() - time_start)        \n",
    "        print('Ep. {}, Ep.Timesteps {}, Score: {:.2f}, Avg.Score: {:.2f}, Run.Score {:.2f}, \\\n",
    "Time: {:02}:{:02}:{:02} '\\\n",
    "            .format(i_episode, timestep, \\\n",
    "                    total_reward, avg_score, running_score, s//3600, s%3600//60, s%60))  \n",
    "       \n",
    "        \n",
    "        # Save episode if more than save_every=500 timesteps\n",
    "        if timestep_after_last_save >= save_every:\n",
    "\n",
    "            timestep_after_last_save %= save_every            \n",
    "            suf = return_suffix(avg_score)\n",
    "            save(agent, 'dir_chk', 'model_weights%d'%i_episode, suf)\n",
    "            \n",
    "        if np.mean(scores_deque) > reward_threshold:\n",
    "            if convergence_check_it == 0:\n",
    "                print(\"Solved environment! Running score is {:.2f}, Avg.Score: {:.2f} !\" \\\n",
    "                      .format(running_score, avg_score))\n",
    "                break\n",
    "            else:\n",
    "                if since_improve > convergence_check_it:\n",
    "                        print(\"reached convergence\")\n",
    "                        break\n",
    "                \n",
    "            \n",
    "    return scores_array, avg_scores_array    \n",
    "            \n",
    "# scores, avg_scores  = ppo_train()    \n",
    "scores2, avg_scores2 = ppo_train(convergence_check_it=20)"
   ]
  },
  {
   "cell_type": "code",
   "execution_count": 37,
   "metadata": {},
   "outputs": [
    {
     "name": "stdout",
     "output_type": "stream",
     "text": [
      "Ep. 0, Ep.Timesteps 14, Score: -3.97, Avg.Score: -3.97, Run.Score -0.04, Time: 00:00:01 \n",
      "Ep. 1, Ep.Timesteps 15, Score: -3.47, Avg.Score: -3.72, Run.Score -0.07, Time: 00:00:02 \n",
      "Ep. 2, Ep.Timesteps 15, Score: -2.47, Avg.Score: -3.30, Run.Score -0.10, Time: 00:00:03 \n",
      "Ep. 3, Ep.Timesteps 14, Score: -1.03, Avg.Score: -2.73, Run.Score -0.11, Time: 00:00:04 \n",
      "Ep. 4, Ep.Timesteps 12, Score: -2.04, Avg.Score: -2.60, Run.Score -0.13, Time: 00:00:05 \n",
      "Ep. 5, Ep.Timesteps 13, Score: -2.72, Avg.Score: -2.62, Run.Score -0.15, Time: 00:00:07 \n",
      "Ep. 6, Ep.Timesteps 13, Score: -0.18, Avg.Score: -2.27, Run.Score -0.15, Time: 00:00:08 \n",
      "Ep. 7, Ep.Timesteps 16, Score: -2.60, Avg.Score: -2.31, Run.Score -0.18, Time: 00:00:09 \n",
      "Ep. 8, Ep.Timesteps 13, Score: -4.78, Avg.Score: -2.58, Run.Score -0.22, Time: 00:00:10 \n",
      "Ep. 9, Ep.Timesteps 13, Score: 2.16, Avg.Score: -2.11, Run.Score -0.20, Time: 00:00:11 \n",
      "Ep. 10, Ep.Timesteps 13, Score: -3.01, Avg.Score: -2.19, Run.Score -0.23, Time: 00:00:12 \n",
      "Ep. 11, Ep.Timesteps 16, Score: -3.91, Avg.Score: -2.33, Run.Score -0.26, Time: 00:00:14 \n"
     ]
    },
    {
     "ename": "KeyboardInterrupt",
     "evalue": "",
     "output_type": "error",
     "traceback": [
      "\u001b[0;31m---------------------------------------------------------------------------\u001b[0m",
      "\u001b[0;31mKeyboardInterrupt\u001b[0m                         Traceback (most recent call last)",
      "\u001b[0;32m<ipython-input-37-1c19910f8872>\u001b[0m in \u001b[0;36m<module>\u001b[0;34m\u001b[0m\n\u001b[1;32m     90\u001b[0m     \u001b[0;32mreturn\u001b[0m \u001b[0mscores_array\u001b[0m\u001b[0;34m,\u001b[0m \u001b[0mavg_scores_array\u001b[0m\u001b[0;34m\u001b[0m\u001b[0;34m\u001b[0m\u001b[0m\n\u001b[1;32m     91\u001b[0m \u001b[0;34m\u001b[0m\u001b[0m\n\u001b[0;32m---> 92\u001b[0;31m \u001b[0mscores\u001b[0m\u001b[0;34m,\u001b[0m \u001b[0mavg_scores\u001b[0m  \u001b[0;34m=\u001b[0m \u001b[0mppo_train\u001b[0m\u001b[0;34m(\u001b[0m\u001b[0;34m)\u001b[0m\u001b[0;34m\u001b[0m\u001b[0;34m\u001b[0m\u001b[0m\n\u001b[0m",
      "\u001b[0;32m<ipython-input-37-1c19910f8872>\u001b[0m in \u001b[0;36mppo_train\u001b[0;34m(n_episodes, save_every)\u001b[0m\n\u001b[1;32m     46\u001b[0m             \u001b[0maction\u001b[0m\u001b[0;34m,\u001b[0m \u001b[0ma_logp\u001b[0m \u001b[0;34m=\u001b[0m \u001b[0magent\u001b[0m\u001b[0;34m.\u001b[0m\u001b[0mselect_action\u001b[0m\u001b[0;34m(\u001b[0m\u001b[0mstate\u001b[0m\u001b[0;34m)\u001b[0m\u001b[0;34m\u001b[0m\u001b[0;34m\u001b[0m\u001b[0m\n\u001b[1;32m     47\u001b[0m             next_state, reward, done, die = env_wrap.step( \n\u001b[0;32m---> 48\u001b[0;31m                 action * np.array([2., 1., 1.]) + np.array([-1., 0., 0.]))\n\u001b[0m\u001b[1;32m     49\u001b[0m \u001b[0;34m\u001b[0m\u001b[0m\n\u001b[1;32m     50\u001b[0m             \u001b[0;32mif\u001b[0m \u001b[0magent\u001b[0m\u001b[0;34m.\u001b[0m\u001b[0mstore\u001b[0m\u001b[0;34m(\u001b[0m\u001b[0;34m(\u001b[0m\u001b[0mstate\u001b[0m\u001b[0;34m,\u001b[0m \u001b[0maction\u001b[0m\u001b[0;34m,\u001b[0m \u001b[0ma_logp\u001b[0m\u001b[0;34m,\u001b[0m \u001b[0mreward\u001b[0m\u001b[0;34m,\u001b[0m \u001b[0mnext_state\u001b[0m\u001b[0;34m)\u001b[0m\u001b[0;34m)\u001b[0m\u001b[0;34m:\u001b[0m\u001b[0;34m\u001b[0m\u001b[0;34m\u001b[0m\u001b[0m\n",
      "\u001b[0;32m<ipython-input-3-fcbe3c177fb1>\u001b[0m in \u001b[0;36mstep\u001b[0;34m(self, action)\u001b[0m\n\u001b[1;32m     20\u001b[0m         \u001b[0mtotal_reward\u001b[0m \u001b[0;34m=\u001b[0m \u001b[0;36m0\u001b[0m\u001b[0;34m\u001b[0m\u001b[0;34m\u001b[0m\u001b[0m\n\u001b[1;32m     21\u001b[0m         \u001b[0;32mfor\u001b[0m \u001b[0mi\u001b[0m \u001b[0;32min\u001b[0m \u001b[0mrange\u001b[0m\u001b[0;34m(\u001b[0m\u001b[0maction_repeat\u001b[0m\u001b[0;34m)\u001b[0m\u001b[0;34m:\u001b[0m\u001b[0;34m\u001b[0m\u001b[0;34m\u001b[0m\u001b[0m\n\u001b[0;32m---> 22\u001b[0;31m             \u001b[0mimg_rgb\u001b[0m\u001b[0;34m,\u001b[0m \u001b[0mreward\u001b[0m\u001b[0;34m,\u001b[0m \u001b[0mdie\u001b[0m\u001b[0;34m,\u001b[0m \u001b[0m_\u001b[0m \u001b[0;34m=\u001b[0m \u001b[0menv\u001b[0m\u001b[0;34m.\u001b[0m\u001b[0mstep\u001b[0m\u001b[0;34m(\u001b[0m\u001b[0maction\u001b[0m\u001b[0;34m)\u001b[0m\u001b[0;34m\u001b[0m\u001b[0;34m\u001b[0m\u001b[0m\n\u001b[0m\u001b[1;32m     23\u001b[0m             \u001b[0;31m# don't penalize \"die state\"\u001b[0m\u001b[0;34m\u001b[0m\u001b[0;34m\u001b[0m\u001b[0;34m\u001b[0m\u001b[0m\n\u001b[1;32m     24\u001b[0m             \u001b[0;32mif\u001b[0m \u001b[0mdie\u001b[0m\u001b[0;34m:\u001b[0m\u001b[0;34m\u001b[0m\u001b[0;34m\u001b[0m\u001b[0m\n",
      "\u001b[0;32m~/anaconda3/envs/rl/lib/python3.7/site-packages/gym/wrappers/time_limit.py\u001b[0m in \u001b[0;36mstep\u001b[0;34m(self, action)\u001b[0m\n\u001b[1;32m     14\u001b[0m     \u001b[0;32mdef\u001b[0m \u001b[0mstep\u001b[0m\u001b[0;34m(\u001b[0m\u001b[0mself\u001b[0m\u001b[0;34m,\u001b[0m \u001b[0maction\u001b[0m\u001b[0;34m)\u001b[0m\u001b[0;34m:\u001b[0m\u001b[0;34m\u001b[0m\u001b[0;34m\u001b[0m\u001b[0m\n\u001b[1;32m     15\u001b[0m         \u001b[0;32massert\u001b[0m \u001b[0mself\u001b[0m\u001b[0;34m.\u001b[0m\u001b[0m_elapsed_steps\u001b[0m \u001b[0;32mis\u001b[0m \u001b[0;32mnot\u001b[0m \u001b[0;32mNone\u001b[0m\u001b[0;34m,\u001b[0m \u001b[0;34m\"Cannot call env.step() before calling reset()\"\u001b[0m\u001b[0;34m\u001b[0m\u001b[0;34m\u001b[0m\u001b[0m\n\u001b[0;32m---> 16\u001b[0;31m         \u001b[0mobservation\u001b[0m\u001b[0;34m,\u001b[0m \u001b[0mreward\u001b[0m\u001b[0;34m,\u001b[0m \u001b[0mdone\u001b[0m\u001b[0;34m,\u001b[0m \u001b[0minfo\u001b[0m \u001b[0;34m=\u001b[0m \u001b[0mself\u001b[0m\u001b[0;34m.\u001b[0m\u001b[0menv\u001b[0m\u001b[0;34m.\u001b[0m\u001b[0mstep\u001b[0m\u001b[0;34m(\u001b[0m\u001b[0maction\u001b[0m\u001b[0;34m)\u001b[0m\u001b[0;34m\u001b[0m\u001b[0;34m\u001b[0m\u001b[0m\n\u001b[0m\u001b[1;32m     17\u001b[0m         \u001b[0mself\u001b[0m\u001b[0;34m.\u001b[0m\u001b[0m_elapsed_steps\u001b[0m \u001b[0;34m+=\u001b[0m \u001b[0;36m1\u001b[0m\u001b[0;34m\u001b[0m\u001b[0;34m\u001b[0m\u001b[0m\n\u001b[1;32m     18\u001b[0m         \u001b[0;32mif\u001b[0m \u001b[0mself\u001b[0m\u001b[0;34m.\u001b[0m\u001b[0m_elapsed_steps\u001b[0m \u001b[0;34m>=\u001b[0m \u001b[0mself\u001b[0m\u001b[0;34m.\u001b[0m\u001b[0m_max_episode_steps\u001b[0m\u001b[0;34m:\u001b[0m\u001b[0;34m\u001b[0m\u001b[0;34m\u001b[0m\u001b[0m\n",
      "\u001b[0;32m~/anaconda3/envs/rl/lib/python3.7/site-packages/gym/envs/box2d/car_racing.py\u001b[0m in \u001b[0;36mstep\u001b[0;34m(self, action)\u001b[0m\n\u001b[1;32m    324\u001b[0m         \u001b[0mself\u001b[0m\u001b[0;34m.\u001b[0m\u001b[0mt\u001b[0m \u001b[0;34m+=\u001b[0m \u001b[0;36m1.0\u001b[0m\u001b[0;34m/\u001b[0m\u001b[0mFPS\u001b[0m\u001b[0;34m\u001b[0m\u001b[0;34m\u001b[0m\u001b[0m\n\u001b[1;32m    325\u001b[0m \u001b[0;34m\u001b[0m\u001b[0m\n\u001b[0;32m--> 326\u001b[0;31m         \u001b[0mself\u001b[0m\u001b[0;34m.\u001b[0m\u001b[0mstate\u001b[0m \u001b[0;34m=\u001b[0m \u001b[0mself\u001b[0m\u001b[0;34m.\u001b[0m\u001b[0mrender\u001b[0m\u001b[0;34m(\u001b[0m\u001b[0;34m\"state_pixels\"\u001b[0m\u001b[0;34m)\u001b[0m\u001b[0;34m\u001b[0m\u001b[0;34m\u001b[0m\u001b[0m\n\u001b[0m\u001b[1;32m    327\u001b[0m \u001b[0;34m\u001b[0m\u001b[0m\n\u001b[1;32m    328\u001b[0m         \u001b[0mstep_reward\u001b[0m \u001b[0;34m=\u001b[0m \u001b[0;36m0\u001b[0m\u001b[0;34m\u001b[0m\u001b[0;34m\u001b[0m\u001b[0m\n",
      "\u001b[0;32m~/anaconda3/envs/rl/lib/python3.7/site-packages/gym/envs/box2d/car_racing.py\u001b[0m in \u001b[0;36mrender\u001b[0;34m(self, mode)\u001b[0m\n\u001b[1;32m    393\u001b[0m         \u001b[0mgl\u001b[0m\u001b[0;34m.\u001b[0m\u001b[0mglViewport\u001b[0m\u001b[0;34m(\u001b[0m\u001b[0;36m0\u001b[0m\u001b[0;34m,\u001b[0m \u001b[0;36m0\u001b[0m\u001b[0;34m,\u001b[0m \u001b[0mVP_W\u001b[0m\u001b[0;34m,\u001b[0m \u001b[0mVP_H\u001b[0m\u001b[0;34m)\u001b[0m\u001b[0;34m\u001b[0m\u001b[0;34m\u001b[0m\u001b[0m\n\u001b[1;32m    394\u001b[0m         \u001b[0mt\u001b[0m\u001b[0;34m.\u001b[0m\u001b[0menable\u001b[0m\u001b[0;34m(\u001b[0m\u001b[0;34m)\u001b[0m\u001b[0;34m\u001b[0m\u001b[0;34m\u001b[0m\u001b[0m\n\u001b[0;32m--> 395\u001b[0;31m         \u001b[0mself\u001b[0m\u001b[0;34m.\u001b[0m\u001b[0mrender_road\u001b[0m\u001b[0;34m(\u001b[0m\u001b[0;34m)\u001b[0m\u001b[0;34m\u001b[0m\u001b[0;34m\u001b[0m\u001b[0m\n\u001b[0m\u001b[1;32m    396\u001b[0m         \u001b[0;32mfor\u001b[0m \u001b[0mgeom\u001b[0m \u001b[0;32min\u001b[0m \u001b[0mself\u001b[0m\u001b[0;34m.\u001b[0m\u001b[0mviewer\u001b[0m\u001b[0;34m.\u001b[0m\u001b[0monetime_geoms\u001b[0m\u001b[0;34m:\u001b[0m\u001b[0;34m\u001b[0m\u001b[0;34m\u001b[0m\u001b[0m\n\u001b[1;32m    397\u001b[0m             \u001b[0mgeom\u001b[0m\u001b[0;34m.\u001b[0m\u001b[0mrender\u001b[0m\u001b[0;34m(\u001b[0m\u001b[0;34m)\u001b[0m\u001b[0;34m\u001b[0m\u001b[0;34m\u001b[0m\u001b[0m\n",
      "\u001b[0;32m~/anaconda3/envs/rl/lib/python3.7/site-packages/gym/envs/box2d/car_racing.py\u001b[0m in \u001b[0;36mrender_road\u001b[0;34m(self)\u001b[0m\n\u001b[1;32m    428\u001b[0m             \u001b[0;32mfor\u001b[0m \u001b[0my\u001b[0m \u001b[0;32min\u001b[0m \u001b[0mrange\u001b[0m\u001b[0;34m(\u001b[0m\u001b[0;34m-\u001b[0m\u001b[0;36m20\u001b[0m\u001b[0;34m,\u001b[0m \u001b[0;36m20\u001b[0m\u001b[0;34m,\u001b[0m \u001b[0;36m2\u001b[0m\u001b[0;34m)\u001b[0m\u001b[0;34m:\u001b[0m\u001b[0;34m\u001b[0m\u001b[0;34m\u001b[0m\u001b[0m\n\u001b[1;32m    429\u001b[0m                 \u001b[0mgl\u001b[0m\u001b[0;34m.\u001b[0m\u001b[0mglVertex3f\u001b[0m\u001b[0;34m(\u001b[0m\u001b[0mk\u001b[0m\u001b[0;34m*\u001b[0m\u001b[0mx\u001b[0m \u001b[0;34m+\u001b[0m \u001b[0mk\u001b[0m\u001b[0;34m,\u001b[0m \u001b[0mk\u001b[0m\u001b[0;34m*\u001b[0m\u001b[0my\u001b[0m \u001b[0;34m+\u001b[0m \u001b[0;36m0\u001b[0m\u001b[0;34m,\u001b[0m \u001b[0;36m0\u001b[0m\u001b[0;34m)\u001b[0m\u001b[0;34m\u001b[0m\u001b[0;34m\u001b[0m\u001b[0m\n\u001b[0;32m--> 430\u001b[0;31m                 \u001b[0mgl\u001b[0m\u001b[0;34m.\u001b[0m\u001b[0mglVertex3f\u001b[0m\u001b[0;34m(\u001b[0m\u001b[0mk\u001b[0m\u001b[0;34m*\u001b[0m\u001b[0mx\u001b[0m \u001b[0;34m+\u001b[0m \u001b[0;36m0\u001b[0m\u001b[0;34m,\u001b[0m \u001b[0mk\u001b[0m\u001b[0;34m*\u001b[0m\u001b[0my\u001b[0m \u001b[0;34m+\u001b[0m \u001b[0;36m0\u001b[0m\u001b[0;34m,\u001b[0m \u001b[0;36m0\u001b[0m\u001b[0;34m)\u001b[0m\u001b[0;34m\u001b[0m\u001b[0;34m\u001b[0m\u001b[0m\n\u001b[0m\u001b[1;32m    431\u001b[0m                 \u001b[0mgl\u001b[0m\u001b[0;34m.\u001b[0m\u001b[0mglVertex3f\u001b[0m\u001b[0;34m(\u001b[0m\u001b[0mk\u001b[0m\u001b[0;34m*\u001b[0m\u001b[0mx\u001b[0m \u001b[0;34m+\u001b[0m \u001b[0;36m0\u001b[0m\u001b[0;34m,\u001b[0m \u001b[0mk\u001b[0m\u001b[0;34m*\u001b[0m\u001b[0my\u001b[0m \u001b[0;34m+\u001b[0m \u001b[0mk\u001b[0m\u001b[0;34m,\u001b[0m \u001b[0;36m0\u001b[0m\u001b[0;34m)\u001b[0m\u001b[0;34m\u001b[0m\u001b[0;34m\u001b[0m\u001b[0m\n\u001b[1;32m    432\u001b[0m                 \u001b[0mgl\u001b[0m\u001b[0;34m.\u001b[0m\u001b[0mglVertex3f\u001b[0m\u001b[0;34m(\u001b[0m\u001b[0mk\u001b[0m\u001b[0;34m*\u001b[0m\u001b[0mx\u001b[0m \u001b[0;34m+\u001b[0m \u001b[0mk\u001b[0m\u001b[0;34m,\u001b[0m \u001b[0mk\u001b[0m\u001b[0;34m*\u001b[0m\u001b[0my\u001b[0m \u001b[0;34m+\u001b[0m \u001b[0mk\u001b[0m\u001b[0;34m,\u001b[0m \u001b[0;36m0\u001b[0m\u001b[0;34m)\u001b[0m\u001b[0;34m\u001b[0m\u001b[0;34m\u001b[0m\u001b[0m\n",
      "\u001b[0;32m~/anaconda3/envs/rl/lib/python3.7/site-packages/pyglet/gl/lib.py\u001b[0m in \u001b[0;36merrcheck\u001b[0;34m(result, func, arguments)\u001b[0m\n\u001b[1;32m     97\u001b[0m             \u001b[0mprint\u001b[0m\u001b[0;34m(\u001b[0m\u001b[0mname\u001b[0m\u001b[0;34m)\u001b[0m\u001b[0;34m\u001b[0m\u001b[0;34m\u001b[0m\u001b[0m\n\u001b[1;32m     98\u001b[0m \u001b[0;34m\u001b[0m\u001b[0m\n\u001b[0;32m---> 99\u001b[0;31m     \u001b[0;32mfrom\u001b[0m \u001b[0mpyglet\u001b[0m \u001b[0;32mimport\u001b[0m \u001b[0mgl\u001b[0m\u001b[0;34m\u001b[0m\u001b[0;34m\u001b[0m\u001b[0m\n\u001b[0m\u001b[1;32m    100\u001b[0m     \u001b[0mcontext\u001b[0m \u001b[0;34m=\u001b[0m \u001b[0mgl\u001b[0m\u001b[0;34m.\u001b[0m\u001b[0mcurrent_context\u001b[0m\u001b[0;34m\u001b[0m\u001b[0;34m\u001b[0m\u001b[0m\n\u001b[1;32m    101\u001b[0m     \u001b[0;32mif\u001b[0m \u001b[0;32mnot\u001b[0m \u001b[0mcontext\u001b[0m\u001b[0;34m:\u001b[0m\u001b[0;34m\u001b[0m\u001b[0;34m\u001b[0m\u001b[0m\n",
      "\u001b[0;32m~/anaconda3/envs/rl/lib/python3.7/importlib/_bootstrap.py\u001b[0m in \u001b[0;36m_handle_fromlist\u001b[0;34m(module, fromlist, import_, recursive)\u001b[0m\n",
      "\u001b[0;31mKeyboardInterrupt\u001b[0m: "
     ]
    }
   ],
   "source": [
    "# agent = Agent(device)\n",
    "\n",
    "env_wrap = Wrapper(env)\n",
    "\n",
    "limits = [200, 400, 600, 800, 830, 870, 900]\n",
    "\n",
    "def return_suffix(j):\n",
    "    suf = '0'\n",
    "    for i in range(len(limits)-1):\n",
    "        if j > limits[i] and j < limits[i+1]:\n",
    "            suf = str(limits[i+1])\n",
    "            break\n",
    "        \n",
    "        i_last = len(limits)-1    \n",
    "        if  j > limits[i_last]:\n",
    "            suf = str(limits[i_last])\n",
    "            break\n",
    "    return suf           \n",
    "\n",
    "\n",
    "def ppo_train(n_episodes=5000, save_every=100):\n",
    "    \n",
    "    scores_deque = deque(maxlen=100)\n",
    "    scores_array = scores\n",
    "    avg_scores_array = avg_scores    \n",
    "\n",
    "    timestep_after_last_save = 0\n",
    "    \n",
    "    time_start = time.time()\n",
    "\n",
    "    running_score = 0\n",
    "    state = env_wrap.reset()\n",
    "    \n",
    "    i_lim = 0\n",
    "    \n",
    "    for i_episode in range(n_episodes):\n",
    "        \n",
    "        timestep = 0\n",
    "        total_reward = 0\n",
    "        \n",
    "        ## score = 0\n",
    "        state = env_wrap.reset()\n",
    "\n",
    "        while True:    \n",
    "            \n",
    "            action, a_logp = agent.select_action(state)\n",
    "            next_state, reward, done, die = env_wrap.step( \n",
    "                action * np.array([2., 1., 1.]) + np.array([-1., 0., 0.]))\n",
    "\n",
    "            if agent.store((state, action, a_logp, reward, next_state)):\n",
    "                print('updating')\n",
    "                agent.update()\n",
    "            \n",
    "            total_reward += reward\n",
    "            state = next_state\n",
    "            \n",
    "            timestep += 1  \n",
    "            timestep_after_last_save += 1\n",
    "            \n",
    "            if done or die:\n",
    "                break\n",
    "                \n",
    "        running_score = running_score * 0.99 + total_reward * 0.01\n",
    "\n",
    "        scores_deque.append(total_reward)\n",
    "        scores_array.append(total_reward)\n",
    "\n",
    "        avg_score = np.mean(scores_deque)\n",
    "        avg_scores_array.append(avg_score)\n",
    "        \n",
    "        s = (int)(time.time() - time_start)        \n",
    "        print('Ep. {}, Ep.Timesteps {}, Score: {:.2f}, Avg.Score: {:.2f}, Run.Score {:.2f}, \\\n",
    "Time: {:02}:{:02}:{:02} '\\\n",
    "            .format(i_episode, timestep, \\\n",
    "                    total_reward, avg_score, running_score, s//3600, s%3600//60, s%60))  \n",
    "       \n",
    "        \n",
    "        # Save episode if more than save_every=500 timesteps\n",
    "        if timestep_after_last_save >= save_every:\n",
    "\n",
    "            timestep_after_last_save %= save_every            \n",
    "            suf = return_suffix(avg_score)\n",
    "            save(agent, 'dir_chk', 'model_weights%d'%i_episode, suf)\n",
    "            \n",
    "        if np.mean(scores_deque) > reward_threshold:\n",
    "            print(\"Solved environment! Running score is {:.2f}, Avg.Score: {:.2f} !\" \\\n",
    "                  .format(running_score, avg_score))\n",
    "            break\n",
    "            \n",
    "    return scores_array, avg_scores_array    \n",
    "            \n",
    "scores, avg_scores  = ppo_train()            "
   ]
  },
  {
   "cell_type": "code",
   "execution_count": 11,
   "metadata": {},
   "outputs": [],
   "source": [
    "save(agent, 'dir_chk', 'model_weights', 'final2')"
   ]
  },
  {
   "cell_type": "code",
   "execution_count": 7,
   "metadata": {},
   "outputs": [],
   "source": [
    "import json\n",
    "metadata = {\"scores_array\": scores, \"avg_scores_array\": avg_scores}\n",
    "with open(\"metadata_0003L2.json\",\"w\") as file:\n",
    "    json.dump(metadata,file)"
   ]
  },
  {
   "cell_type": "code",
   "execution_count": 10,
   "metadata": {},
   "outputs": [
    {
     "name": "stdout",
     "output_type": "stream",
     "text": [
      "length of scores:  1676 , len of avg_scores:  1676\n"
     ]
    },
    {
     "data": {
      "image/png": "[encoded data removed]",
      "text/plain": [
       "<Figure size 432x288 with 1 Axes>"
      ]
     },
     "metadata": {
      "needs_background": "light"
     },
     "output_type": "display_data"
    }
   ],
   "source": [
    "import matplotlib.pyplot as plt\n",
    "%matplotlib inline\n",
    "\n",
    "print('length of scores: ', len(scores), ', len of avg_scores: ', len(avg_scores))\n",
    "\n",
    "fig = plt.figure()\n",
    "ax = fig.add_subplot(111)\n",
    "plt.plot(np.arange(1, len(scores)+1), scores, label=\"Score\")\n",
    "plt.plot(np.arange(1, len(avg_scores)+1), avg_scores, label=\"Avg on 100 episodes\")\n",
    "plt.legend(bbox_to_anchor=(1.05, 1)) \n",
    "plt.ylabel('Score')\n",
    "plt.xlabel('Episodes #')\n",
    "plt.show()\n"
   ]
  },
  {
   "cell_type": "code",
   "execution_count": 11,
   "metadata": {},
   "outputs": [
    {
     "name": "stdout",
     "output_type": "stream",
     "text": [
      "length of scores:  2760 , len of avg_scores:  2760\n"
     ]
    },
    {
     "data": {
      "image/png": "[encoded data removed]",
      "text/plain": [
       "<Figure size 432x288 with 1 Axes>"
      ]
     },
     "metadata": {
      "needs_background": "light"
     },
     "output_type": "display_data"
    }
   ],
   "source": [
    "import matplotlib.pyplot as plt\n",
    "%matplotlib inline\n",
    "\n",
    "print('length of scores: ', len(scores), ', len of avg_scores: ', len(avg_scores))\n",
    "\n",
    "fig = plt.figure()\n",
    "ax = fig.add_subplot(111)\n",
    "plt.plot(np.arange(1, len(scores)+1), scores, label=\"Score\")\n",
    "plt.plot(np.arange(1, len(avg_scores)+1), avg_scores, label=\"Avg on 100 episodes\")\n",
    "plt.legend(bbox_to_anchor=(1.05, 1)) \n",
    "plt.ylabel('Score')\n",
    "plt.xlabel('Episodes #')\n",
    "plt.show()"
   ]
  },
  {
   "cell_type": "code",
   "execution_count": 12,
   "metadata": {},
   "outputs": [],
   "source": [
    "env.close()"
   ]
  },
  {
   "cell_type": "code",
   "execution_count": null,
   "metadata": {},
   "outputs": [],
   "source": []
  }
 ],
 "metadata": {
  "kernelspec": {
   "display_name": "Python 3",
   "language": "python",
   "name": "python3"
  },
  "language_info": {
   "codemirror_mode": {
    "name": "ipython",
    "version": 3
   },
   "file_extension": ".py",
   "mimetype": "text/x-python",
   "name": "python",
   "nbconvert_exporter": "python",
   "pygments_lexer": "ipython3",
   "version": "3.7.5"
  }
 },
 "nbformat": 4,
 "nbformat_minor": 2
}
