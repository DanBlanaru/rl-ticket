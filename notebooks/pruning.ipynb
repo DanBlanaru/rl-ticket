{
 "cells": [
  {
   "cell_type": "markdown",
   "metadata": {},
   "source": [
    "# Inits"
   ]
  },
  {
   "cell_type": "code",
   "execution_count": 1,
   "metadata": {},
   "outputs": [],
   "source": [
    "import torch\n",
    "import torch.nn as nn\n",
    "import torch.nn.functional as F\n",
    "import torch.nn.utils.prune as prune\n",
    "import torch.utils.data\n",
    "import torch.optim as optim\n",
    "\n",
    "import torchvision\n",
    "import torchvision.transforms as transforms\n",
    "import matplotlib.pyplot as plt\n",
    "\n",
    "# from sklearn.metrics import confusion_matrix\n",
    "import json\n",
    "import numpy as np"
   ]
  },
  {
   "cell_type": "code",
   "execution_count": 2,
   "metadata": {},
   "outputs": [],
   "source": [
    "device = torch.device(\"cuda\" if torch.cuda.is_available() else \"cpu\")\n",
    "cpu = torch.device(\"cpu\")\n",
    "class network(nn.Module):\n",
    "    def __init__(self):\n",
    "        super(network,self).__init__()\n",
    "        self.conv1 = nn.Conv2d(1,6,3)\n",
    "        self.conv2 = nn.Conv2d(6,16,3)\n",
    "        self.fc1 = nn.Linear(16*5*5,120)\n",
    "        self.fc2 = nn.Linear(120,84)\n",
    "        self.fc3 = nn.Linear(84,10)\n",
    "        \n",
    "        self.errors = []\n",
    "        self.misses = []\n",
    "    \n",
    "    def forward(self,x):\n",
    "        x = F.relu(self.conv1(x))\n",
    "        x = F.max_pool2d(x,(2,2))\n",
    "        x = F.relu(self.conv2(x))\n",
    "        x = F.max_pool2d(x,2)\n",
    "        x = x.view(-1,x.nelement() // x.shape[0]) # nelement/batchsize\n",
    "        x = F.relu(self.fc1(x))\n",
    "        x = F.relu(self.fc2(x))\n",
    "        x = self.fc3(x)\n",
    "        return x"
   ]
  },
  {
   "cell_type": "markdown",
   "metadata": {},
   "source": [
    "Init network and make a copy into model2"
   ]
  },
  {
   "cell_type": "code",
   "execution_count": 3,
   "metadata": {},
   "outputs": [
    {
     "data": {
      "text/plain": [
       "<All keys matched successfully>"
      ]
     },
     "execution_count": 3,
     "metadata": {},
     "output_type": "execute_result"
    }
   ],
   "source": [
    "model = network().to(device = device)\n",
    "model_inits = network()\n",
    "model_inits.load_state_dict(model.state_dict())"
   ]
  },
  {
   "cell_type": "code",
   "execution_count": 4,
   "metadata": {},
   "outputs": [],
   "source": [
    "torch.set_printoptions(linewidth = 120)\n",
    "train_set = torchvision.datasets.FashionMNIST(root = '../../data', train = True,  download = True, transform = transforms.Compose([transforms.ToTensor()]))\n",
    "test_set = torchvision.datasets.FashionMNIST(root = '../../data', train = False,  download = True, transform = transforms.Compose([transforms.ToTensor()]))\n",
    "\n",
    "# extract + transform\n",
    "train_loader = torch.utils.data.DataLoader(train_set,batch_size = 128,pin_memory = True,num_workers=1)\n",
    "test_loader = torch.utils.data.DataLoader(test_set,batch_size = 128,shuffle=False,pin_memory = True,num_workers=1)\n",
    "#load\n",
    "\n",
    "# from torchvision.datasets import MNIST\n",
    "# transform = transforms.Compose([transforms.ToTensor(), \n",
    "#                                         transforms.Normalize((0.5,), (0.5,))])\n",
    "# dataset = MNIST(root = './data', train = train, transform = transform, download=True)\n",
    "# train_set, val_set = torch.utils.data.random_split(dataset, [50000, 10000])\n"
   ]
  },
  {
   "cell_type": "markdown",
   "metadata": {},
   "source": [
    "# Utils"
   ]
  },
  {
   "cell_type": "code",
   "execution_count": 5,
   "metadata": {},
   "outputs": [],
   "source": [
    "\n",
    "def load_net(path,pruned = False):\n",
    "    model_path = \"..\\\\..\\\\models\\\\\" + path+\".pth\"\n",
    "    loss_path = \"..\\\\..\\\\models\\\\\" + path + \".json\"\n",
    "    modelloaded = network()\n",
    "    if pruned:\n",
    "        prune_iteration(modelloaded)\n",
    "    state_dict = torch.load(model_path)\n",
    "    modelloaded.load_state_dict(state_dict, False)\n",
    "    errors,misses = json.load(open(loss_path, 'r'))\n",
    "    modelloaded.errors = errors\n",
    "    modelloaded.misses = misses\n",
    "    return modelloaded\n",
    "\n",
    "def save_net(model,path):\n",
    "    model_path = \"..\\\\..\\\\models\\\\\" + path+\".pth\"\n",
    "    loss_path = \"..\\\\..\\\\models\\\\\" + path + \".json\"\n",
    "    print(model_path)\n",
    "    json.dump((model.errors,model.misses),open(loss_path, 'w'))\n",
    "    torch.save(model.state_dict(),model_path)"
   ]
  },
  {
   "cell_type": "code",
   "execution_count": 6,
   "metadata": {},
   "outputs": [],
   "source": [
    "def get_num_correct(preds,labels):\n",
    "    return preds.argmax(dim=1).eq(labels).sum().item()"
   ]
  },
  {
   "cell_type": "code",
   "execution_count": 7,
   "metadata": {},
   "outputs": [],
   "source": [
    "def eval_on_test(model,loader):\n",
    "    missclassif = 0\n",
    "    running_loss = 0\n",
    "    for data in loader:\n",
    "        inputs,labels = data[0].to(device),data[1].to(device)\n",
    "        outputs = model(inputs)\n",
    "        wrongs = len(labels) - get_num_correct(outputs,labels)\n",
    "        missclassif += wrongs\n",
    "    return missclassif,len(loader.dataset)"
   ]
  },
  {
   "cell_type": "markdown",
   "metadata": {},
   "source": [
    "# Train Loop"
   ]
  },
  {
   "cell_type": "code",
   "execution_count": 8,
   "metadata": {},
   "outputs": [],
   "source": [
    "optimizer = optim.Adam(model.parameters(),lr = 0.0005, weight_decay = 0.0002)\n",
    "loss_function = nn.CrossEntropyLoss()"
   ]
  },
  {
   "cell_type": "code",
   "execution_count": 9,
   "metadata": {},
   "outputs": [],
   "source": [
    "def train_loop(model,epochs,loader,optimizer,loss_f, converge_check = True, max_downs = -1,new_err_vec = False):\n",
    "    if max_downs == -1:\n",
    "        max_downs = epochs\n",
    "    if new_err_vec:\n",
    "        model.errors.append([])\n",
    "        model.misses.append([])\n",
    "    \n",
    "    miss_prev = len(loader.dataset)\n",
    "    miss_classif = 0\n",
    "    downs = 0\n",
    "    epoch_loss_prev = 10.0**8\n",
    "    \n",
    "    for epoch in range(epochs):\n",
    "        running_loss = 0\n",
    "        miss_classif = 0\n",
    "        epoch_loss = 0.0\n",
    "        for i,data in enumerate(loader,0):\n",
    "            inputs,labels = data[0].to(device), data[1].to(device)\n",
    "\n",
    "            optimizer.zero_grad()\n",
    "\n",
    "            outputs = model(inputs)\n",
    "            loss = loss_f(outputs,labels)\n",
    "            loss.backward()\n",
    "            optimizer.step()\n",
    "            \n",
    "            miss_classif += len(labels) - get_num_correct(outputs,labels)\n",
    "            \n",
    "            running_loss += loss.item()\n",
    "            epoch_loss += loss.item()\n",
    "#             if i % 100 == 99:\n",
    "#                 print('[%d, %5d] loss: %.3f' %\n",
    "#                       (epoch + 1, i + 1, running_loss / train_loader.batch_size))\n",
    "#                 running_loss = 0\n",
    "        \n",
    "        print(\"Epoch %d done with total %d misses \\n and error %f\\n\"%(epoch,miss_classif,epoch_loss))\n",
    "        epoch_loss_prev = epoch_loss\n",
    "        model.errors[-1].append(epoch_loss)\n",
    "        model.misses[-1].append(miss_classif)\n",
    "        if (epoch_loss > epoch_loss_prev) and convergence_check:\n",
    "            downs +=1\n",
    "            if downs > max_downs:\n",
    "                print(\"Converged. %d losses were bigger\"%(max_downs))\n",
    "                return\n",
    "        miss_prev = miss_classif\n",
    "    print(\"Done!\")"
   ]
  },
  {
   "cell_type": "code",
   "execution_count": null,
   "metadata": {},
   "outputs": [],
   "source": [
    "train_loop(model,130,train_loader,optimizer,loss_function, new_err_vec= True)"
   ]
  },
  {
   "cell_type": "markdown",
   "metadata": {},
   "source": [
    "# Saving"
   ]
  },
  {
   "cell_type": "code",
   "execution_count": 10,
   "metadata": {},
   "outputs": [
    {
     "data": {
      "text/plain": [
       "(9000, 10000)"
      ]
     },
     "execution_count": 10,
     "metadata": {},
     "output_type": "execute_result"
    }
   ],
   "source": [
    "eval_on_test(model,test_loader)"
   ]
  },
  {
   "cell_type": "code",
   "execution_count": null,
   "metadata": {},
   "outputs": [],
   "source": [
    "save_net(model, \"fashion_trained\")\n",
    "save_net(model_inits, \"fashion_init\")"
   ]
  },
  {
   "cell_type": "markdown",
   "metadata": {},
   "source": [
    "# Loaded model"
   ]
  },
  {
   "cell_type": "code",
   "execution_count": null,
   "metadata": {},
   "outputs": [],
   "source": [
    "model= load_net(\"fashion_pruned\",True).to(device)\n",
    "# eval_on_test(model,test_loader)"
   ]
  },
  {
   "cell_type": "code",
   "execution_count": null,
   "metadata": {},
   "outputs": [],
   "source": [
    "# plt.plot(np.array(model2.errors[0][15:])/60000)"
   ]
  },
  {
   "cell_type": "code",
   "execution_count": null,
   "metadata": {},
   "outputs": [],
   "source": [
    "# !jupyter nbconvert --to script pruning.ipynb"
   ]
  },
  {
   "cell_type": "code",
   "execution_count": null,
   "metadata": {},
   "outputs": [],
   "source": [
    "# l = [0,2,3,4,5]\n",
    "# model2.conv1.bias  =  torch.nn.Parameter(model2.conv1.bias[l].clone())\n",
    "# model2.conv1.weight = torch.nn.Parameter(model2.conv1.weight[l].clone())\n",
    "# model2.conv2.weight= torch.nn.Parameter(model2.conv2.weight[:,l,:].clone())\n",
    "# model2.conv2.bias= torch.nn.Parameter(model2.conv2.bias[:,l,:].clone())"
   ]
  },
  {
   "cell_type": "markdown",
   "metadata": {},
   "source": [
    "# Pruning"
   ]
  },
  {
   "cell_type": "code",
   "execution_count": 11,
   "metadata": {},
   "outputs": [],
   "source": [
    "def countZeroWeights(model):\n",
    "    zeros = 0\n",
    "    for param in model.buffers():\n",
    "        if param is not None:\n",
    "            zeros += param.numel() - param.nonzero().size(0)\n",
    "    return zeros"
   ]
  },
  {
   "cell_type": "code",
   "execution_count": 12,
   "metadata": {},
   "outputs": [
    {
     "data": {
      "text/plain": [
       "60074"
      ]
     },
     "execution_count": 12,
     "metadata": {},
     "output_type": "execute_result"
    }
   ],
   "source": [
    "sum(p.numel() for p in model.parameters())"
   ]
  },
  {
   "cell_type": "code",
   "execution_count": 15,
   "metadata": {},
   "outputs": [],
   "source": [
    "model = load_net(\"fashion_pruned\",True).to(device)\n",
    "optimizer = optim.Adam(model.parameters(), weight_decay = 0.001)\n",
    "# optimizer = optim.Adam(model.parameters(),lr = 0.0005, weight_decay = 0.0002)"
   ]
  },
  {
   "cell_type": "code",
   "execution_count": 14,
   "metadata": {},
   "outputs": [],
   "source": [
    "def prune_iteration(model,p = [1,2,0.2,0.2,0.2]):\n",
    "    prune.ln_structured(model.conv1, name = \"weight\", amount = p[0], n =1, dim = 0)\n",
    "    prune.ln_structured(model.conv2, name = \"weight\", amount = p[1], n = 1, dim= 0)\n",
    "    prune.ln_structured(model.fc1, name = \"weight\", amount = p[2], n=1, dim = 0)\n",
    "    prune.ln_structured(model.fc2, name = \"weight\", amount = p[3], n=1, dim = 0)\n",
    "#     prune.ln_structured(model.fc3, name = \"weight\", amount = p[4], n=1, dim = 0)\n",
    "def prune_train_iteration(model,epochs,loader,optimizer,loss_f, converge_check = True, max_downs = -1, p =[1,2,0.2,0.2,0.2]):\n",
    "    prune_iteration(model, p)\n",
    "    train_loop(model, epochs, loader,optimizer,loss_f)"
   ]
  },
  {
   "cell_type": "code",
   "execution_count": 21,
   "metadata": {},
   "outputs": [
    {
     "name": "stdout",
     "output_type": "stream",
     "text": [
      "Epoch 0 done with total 5501 misses \n",
      " and error 115.851992\n",
      "\n",
      "Epoch 1 done with total 5057 misses \n",
      " and error 106.255768\n",
      "\n",
      "Epoch 2 done with total 4937 misses \n",
      " and error 103.576696\n",
      "\n",
      "Epoch 3 done with total 4855 misses \n",
      " and error 102.253876\n",
      "\n",
      "Epoch 4 done with total 4780 misses \n",
      " and error 101.032604\n",
      "\n",
      "Epoch 5 done with total 4747 misses \n",
      " and error 100.346748\n",
      "\n",
      "Epoch 6 done with total 4706 misses \n",
      " and error 99.532030\n",
      "\n",
      "Epoch 7 done with total 4670 misses \n",
      " and error 98.838744\n",
      "\n",
      "Epoch 8 done with total 4605 misses \n",
      " and error 98.337227\n",
      "\n",
      "Epoch 9 done with total 4619 misses \n",
      " and error 98.028558\n",
      "\n",
      "Epoch 10 done with total 4543 misses \n",
      " and error 97.402126\n",
      "\n",
      "Epoch 11 done with total 4580 misses \n",
      " and error 97.406880\n",
      "\n",
      "Epoch 12 done with total 4549 misses \n",
      " and error 96.777458\n",
      "\n",
      "Epoch 13 done with total 4529 misses \n",
      " and error 96.531275\n",
      "\n",
      "Epoch 14 done with total 4523 misses \n",
      " and error 96.224090\n",
      "\n",
      "Epoch 15 done with total 4489 misses \n",
      " and error 95.815779\n",
      "\n",
      "Epoch 16 done with total 4498 misses \n",
      " and error 95.505330\n",
      "\n",
      "Epoch 17 done with total 4456 misses \n",
      " and error 95.404178\n",
      "\n",
      "Epoch 18 done with total 4446 misses \n",
      " and error 94.823735\n",
      "\n",
      "Epoch 19 done with total 4440 misses \n",
      " and error 94.870623\n",
      "\n",
      "Epoch 20 done with total 4451 misses \n",
      " and error 94.621558\n",
      "\n",
      "Epoch 21 done with total 4457 misses \n",
      " and error 94.478596\n",
      "\n",
      "Epoch 22 done with total 4398 misses \n",
      " and error 94.079472\n",
      "\n",
      "Epoch 23 done with total 4384 misses \n",
      " and error 93.990603\n",
      "\n",
      "Epoch 24 done with total 4395 misses \n",
      " and error 93.823290\n",
      "\n",
      "Epoch 25 done with total 4364 misses \n",
      " and error 93.476118\n",
      "\n",
      "Epoch 26 done with total 4411 misses \n",
      " and error 93.409925\n",
      "\n",
      "Epoch 27 done with total 4374 misses \n",
      " and error 93.181255\n",
      "\n",
      "Epoch 28 done with total 4349 misses \n",
      " and error 92.919547\n",
      "\n",
      "Epoch 29 done with total 4340 misses \n",
      " and error 92.736180\n",
      "\n",
      "Epoch 30 done with total 4349 misses \n",
      " and error 92.759501\n",
      "\n",
      "Epoch 31 done with total 4349 misses \n",
      " and error 92.595390\n",
      "\n",
      "Epoch 32 done with total 4346 misses \n",
      " and error 92.554990\n",
      "\n",
      "Epoch 33 done with total 4321 misses \n",
      " and error 92.269501\n",
      "\n",
      "Epoch 34 done with total 4325 misses \n",
      " and error 92.147061\n",
      "\n",
      "Epoch 35 done with total 4333 misses \n",
      " and error 92.227387\n",
      "\n",
      "Epoch 36 done with total 4293 misses \n",
      " and error 91.892282\n",
      "\n",
      "Epoch 37 done with total 4269 misses \n",
      " and error 91.942506\n",
      "\n",
      "Epoch 38 done with total 4318 misses \n",
      " and error 92.031120\n",
      "\n",
      "Epoch 39 done with total 4321 misses \n",
      " and error 91.919873\n",
      "\n",
      "Done!\n"
     ]
    }
   ],
   "source": [
    "prune_train_iteration(model, 40, train_loader, optimizer, loss_function, p = [0,0,0.2,0.2,0.2])\n"
   ]
  },
  {
   "cell_type": "code",
   "execution_count": null,
   "metadata": {},
   "outputs": [],
   "source": [
    "train_loop(model, 50, train_loader,optimizer,loss_function,converge_check = True, max_downs = -1)"
   ]
  },
  {
   "cell_type": "code",
   "execution_count": 22,
   "metadata": {},
   "outputs": [
    {
     "data": {
      "text/plain": [
       "(1265, 10000)"
      ]
     },
     "execution_count": 22,
     "metadata": {},
     "output_type": "execute_result"
    }
   ],
   "source": [
    "eval_on_test(model,test_loader)"
   ]
  },
  {
   "cell_type": "code",
   "execution_count": 24,
   "metadata": {},
   "outputs": [
    {
     "name": "stdout",
     "output_type": "stream",
     "text": [
      "..\\..\\models\\fashion_pruned_meh.pth\n"
     ]
    }
   ],
   "source": [
    "save_net(model,\"fashion_pruned_meh\")"
   ]
  },
  {
   "cell_type": "code",
   "execution_count": 23,
   "metadata": {},
   "outputs": [
    {
     "data": {
      "text/plain": [
       "39245"
      ]
     },
     "execution_count": 23,
     "metadata": {},
     "output_type": "execute_result"
    }
   ],
   "source": [
    "countZeroWeights(model)"
   ]
  },
  {
   "cell_type": "markdown",
   "metadata": {},
   "source": [
    "# Loading networks"
   ]
  },
  {
   "cell_type": "code",
   "execution_count": 27,
   "metadata": {},
   "outputs": [
    {
     "data": {
      "text/plain": [
       "network(\n",
       "  (conv1): Conv2d(1, 6, kernel_size=(3, 3), stride=(1, 1))\n",
       "  (conv2): Conv2d(6, 16, kernel_size=(3, 3), stride=(1, 1))\n",
       "  (fc1): Linear(in_features=400, out_features=120, bias=True)\n",
       "  (fc2): Linear(in_features=120, out_features=84, bias=True)\n",
       "  (fc3): Linear(in_features=84, out_features=10, bias=True)\n",
       ")"
      ]
     },
     "execution_count": 27,
     "metadata": {},
     "output_type": "execute_result"
    }
   ],
   "source": [
    "model2 = load_net(\"fashion_pruned_meh\",True)\n",
    "model2.to(device)"
   ]
  },
  {
   "cell_type": "code",
   "execution_count": 28,
   "metadata": {},
   "outputs": [
    {
     "data": {
      "text/plain": [
       "(1265, 10000)"
      ]
     },
     "execution_count": 28,
     "metadata": {},
     "output_type": "execute_result"
    }
   ],
   "source": [
    "eval_on_test(model2,test_loader)\n",
    "# model2.conv1._forward_pre_hooks"
   ]
  },
  {
   "cell_type": "code",
   "execution_count": null,
   "metadata": {},
   "outputs": [],
   "source": [
    "# list(model.conv1.named_parameters())\n",
    "(model.conv1.weight_orig).data.clone()"
   ]
  },
  {
   "cell_type": "code",
   "execution_count": 87,
   "metadata": {},
   "outputs": [
    {
     "data": {
      "text/plain": [
       "[<matplotlib.lines.Line2D at 0x25dcb03aa48>]"
      ]
     },
     "execution_count": 87,
     "metadata": {},
     "output_type": "execute_result"
    },
    {
     "data": {
      "image/png": "[encoded data removed]",
      "text/plain": [
       "<Figure size 432x288 with 1 Axes>"
      ]
     },
     "metadata": {
      "needs_background": "light"
     },
     "output_type": "display_data"
    }
   ],
   "source": [
    "plt.plot(np.array(model.errors[0][5:])/60000)"
   ]
  },
  {
   "cell_type": "markdown",
   "metadata": {},
   "source": [
    "# Lottery Ticket"
   ]
  },
  {
   "cell_type": "code",
   "execution_count": 76,
   "metadata": {},
   "outputs": [],
   "source": [
    "def init_ticket(init_path, pruned_path):\n",
    "    init_net = load_net(init_path)\n",
    "    ticket = load_net(pruned_path,True)\n",
    "    with torch.no_grad():\n",
    "        pruned_module_list = list(ticket.named_parameters())\n",
    "        init_module_list = list(init_net.named_parameters())\n",
    "        print(len(pruned_module_list))\n",
    "        for i in range(1,len(pruned_module_list) -2, 2):\n",
    "            print(pruned_module_list[i][0], init_module_list[i-1][0])\n",
    "            pruned_module_list[i][1].data = init_module_list[i-1][1].data.clone()\n",
    "\n",
    "        for i in range(0,len(pruned_module_list) -3, 2):\n",
    "            print(pruned_module_list[i][0], init_module_list[i+1][0])\n",
    "            pruned_module_list[i][1].data = init_module_list[i+1][1].data.clone()\n",
    "        ticket.fc3.weight.data = init_net.fc3.weight.data.clone()\n",
    "        ticket.fc3.bias.data = init_net.fc3.bias.data.clone()\n",
    "        \n",
    "        print()\n",
    "        \n",
    "    return ticket"
   ]
  },
  {
   "cell_type": "code",
   "execution_count": 77,
   "metadata": {},
   "outputs": [
    {
     "name": "stdout",
     "output_type": "stream",
     "text": [
      "10\n",
      "conv1.weight_orig conv1.weight\n",
      "conv2.weight_orig conv2.weight\n",
      "fc1.weight_orig fc1.weight\n",
      "fc2.weight_orig fc2.weight\n",
      "conv1.bias conv1.bias\n",
      "conv2.bias conv2.bias\n",
      "fc1.bias fc1.bias\n",
      "fc2.bias fc2.bias\n",
      "\n"
     ]
    }
   ],
   "source": [
    "ticket = init_ticket(\"fashion_init\",\"fashion_pruned\").to(device)"
   ]
  },
  {
   "cell_type": "code",
   "execution_count": 86,
   "metadata": {},
   "outputs": [
    {
     "data": {
      "text/plain": [
       "(1162, 10000)"
      ]
     },
     "execution_count": 86,
     "metadata": {},
     "output_type": "execute_result"
    }
   ],
   "source": [
    "eval_on_test(ticket,test_loader)"
   ]
  },
  {
   "cell_type": "code",
   "execution_count": 79,
   "metadata": {},
   "outputs": [],
   "source": [
    "optimizer = optim.Adam(ticket.parameters(),lr = 0.0005, weight_decay = 0.0002)\n",
    "loss_function = nn.CrossEntropyLoss()"
   ]
  },
  {
   "cell_type": "code",
   "execution_count": 85,
   "metadata": {},
   "outputs": [
    {
     "name": "stdout",
     "output_type": "stream",
     "text": [
      "Epoch 0 done with total 6578 misses \n",
      " and error 139.491269\n",
      "\n",
      "Epoch 1 done with total 6536 misses \n",
      " and error 138.739862\n",
      "\n",
      "Epoch 2 done with total 6512 misses \n",
      " and error 138.011942\n",
      "\n",
      "Epoch 3 done with total 6480 misses \n",
      " and error 137.228211\n",
      "\n",
      "Epoch 4 done with total 6431 misses \n",
      " and error 136.407698\n",
      "\n",
      "Epoch 5 done with total 6405 misses \n",
      " and error 135.703799\n",
      "\n",
      "Epoch 6 done with total 6386 misses \n",
      " and error 135.040605\n",
      "\n",
      "Epoch 7 done with total 6347 misses \n",
      " and error 134.354978\n",
      "\n",
      "Epoch 8 done with total 6330 misses \n",
      " and error 133.685360\n",
      "\n",
      "Epoch 9 done with total 6301 misses \n",
      " and error 133.065835\n",
      "\n",
      "Epoch 10 done with total 6267 misses \n",
      " and error 132.422193\n",
      "\n",
      "Epoch 11 done with total 6245 misses \n",
      " and error 131.833328\n",
      "\n",
      "Epoch 12 done with total 6233 misses \n",
      " and error 131.220677\n",
      "\n",
      "Epoch 13 done with total 6193 misses \n",
      " and error 130.634897\n",
      "\n",
      "Epoch 14 done with total 6167 misses \n",
      " and error 130.040356\n",
      "\n",
      "Epoch 15 done with total 6120 misses \n",
      " and error 129.448363\n",
      "\n",
      "Epoch 16 done with total 6098 misses \n",
      " and error 128.897022\n",
      "\n",
      "Epoch 17 done with total 6088 misses \n",
      " and error 128.338209\n",
      "\n",
      "Epoch 18 done with total 6055 misses \n",
      " and error 127.829342\n",
      "\n",
      "Epoch 19 done with total 6034 misses \n",
      " and error 127.286303\n",
      "\n",
      "Epoch 20 done with total 5988 misses \n",
      " and error 126.744705\n",
      "\n",
      "Epoch 21 done with total 5941 misses \n",
      " and error 126.207498\n",
      "\n",
      "Epoch 22 done with total 5918 misses \n",
      " and error 125.680185\n",
      "\n",
      "Epoch 23 done with total 5880 misses \n",
      " and error 125.156665\n",
      "\n",
      "Epoch 24 done with total 5847 misses \n",
      " and error 124.611575\n",
      "\n",
      "Epoch 25 done with total 5835 misses \n",
      " and error 124.108116\n",
      "\n",
      "Epoch 26 done with total 5829 misses \n",
      " and error 123.619834\n",
      "\n",
      "Epoch 27 done with total 5820 misses \n",
      " and error 123.138408\n",
      "\n",
      "Epoch 28 done with total 5791 misses \n",
      " and error 122.583433\n",
      "\n",
      "Epoch 29 done with total 5765 misses \n",
      " and error 122.140929\n",
      "\n",
      "Done!\n"
     ]
    }
   ],
   "source": [
    "train_loop(ticket,30,train_loader,optimizer,loss_function)"
   ]
  },
  {
   "cell_type": "code",
   "execution_count": 90,
   "metadata": {},
   "outputs": [
    {
     "data": {
      "text/plain": [
       "[<matplotlib.lines.Line2D at 0x25dcb1a22c8>]"
      ]
     },
     "execution_count": 90,
     "metadata": {},
     "output_type": "execute_result"
    },
    {
     "data": {
      "image/png": "[encoded data removed]",
      "text/plain": [
       "<Figure size 432x288 with 1 Axes>"
      ]
     },
     "metadata": {
      "needs_background": "light"
     },
     "output_type": "display_data"
    }
   ],
   "source": [
    "plt.plot(np.array(ticket.errors[1][5:])/60000)"
   ]
  },
  {
   "cell_type": "code",
   "execution_count": 96,
   "metadata": {},
   "outputs": [],
   "source": [
    "unpruned_model = load_net(\"fashion_trained\").to(device)\n",
    "pruned_model = load_net(\"fashion_pruned\",True).to(device)"
   ]
  },
  {
   "cell_type": "code",
   "execution_count": 97,
   "metadata": {},
   "outputs": [
    {
     "name": "stdout",
     "output_type": "stream",
     "text": [
      "(1162, 10000)\n",
      "(1222, 10000)\n",
      "(1183, 10000)\n"
     ]
    }
   ],
   "source": [
    "print(eval_on_test(ticket,test_loader))\n",
    "print(eval_on_test(unpruned_model,test_loader))\n",
    "print(eval_on_test(pruned_model,test_loader))"
   ]
  },
  {
   "cell_type": "code",
   "execution_count": 101,
   "metadata": {},
   "outputs": [
    {
     "data": {
      "text/plain": [
       "80"
      ]
     },
     "execution_count": 101,
     "metadata": {},
     "output_type": "execute_result"
    }
   ],
   "source": [
    "len(ticket.errors[1])"
   ]
  },
  {
   "cell_type": "code",
   "execution_count": 103,
   "metadata": {},
   "outputs": [
    {
     "name": "stdout",
     "output_type": "stream",
     "text": [
      "..\\..\\models\\ticket.pth\n"
     ]
    }
   ],
   "source": [
    "save_net(ticket,\"ticket\")"
   ]
  },
  {
   "cell_type": "code",
   "execution_count": 106,
   "metadata": {},
   "outputs": [
    {
     "data": {
      "text/plain": [
       "(1162, 10000)"
      ]
     },
     "execution_count": 106,
     "metadata": {},
     "output_type": "execute_result"
    }
   ],
   "source": [
    "tk  = load_net(\"ticket\",True).to(device)\n",
    "eval_on_test(tk,test_loader)"
   ]
  },
  {
   "cell_type": "code",
   "execution_count": null,
   "metadata": {},
   "outputs": [],
   "source": []
  }
 ],
 "metadata": {
  "kernelspec": {
   "display_name": "Python 3",
   "language": "python",
   "name": "python3"
  },
  "language_info": {
   "codemirror_mode": {
    "name": "ipython",
    "version": 3
   },
   "file_extension": ".py",
   "mimetype": "text/x-python",
   "name": "python",
   "nbconvert_exporter": "python",
   "pygments_lexer": "ipython3",
   "version": "3.7.5"
  }
 },
 "nbformat": 4,
 "nbformat_minor": 4
}
