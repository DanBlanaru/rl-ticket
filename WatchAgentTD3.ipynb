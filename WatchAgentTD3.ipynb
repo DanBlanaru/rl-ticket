{
 "cells": [
  {
   "cell_type": "markdown",
   "metadata": {},
   "source": [
    "## Watch a Smart Agent!"
   ]
  },
  {
   "cell_type": "markdown",
   "metadata": {},
   "source": [
    "### 1.Start the Environment for Trained Agent"
   ]
  },
  {
   "cell_type": "code",
   "execution_count": 1,
   "metadata": {},
   "outputs": [
    {
     "name": "stderr",
     "output_type": "stream",
     "text": [
      "/home/dan/anaconda3/envs/rl/lib/python3.7/site-packages/gym/logger.py:30: UserWarning: \u001b[33mWARN: Box bound precision lowered by casting to float32\u001b[0m\n",
      "  warnings.warn(colorize('%s: %s'%('WARN', msg % args), 'yellow'))\n"
     ]
    },
    {
     "name": "stdout",
     "output_type": "stream",
     "text": [
      "state_size:  24 , action_size:  4 , action_high:  1.0\n"
     ]
    }
   ],
   "source": [
    "import numpy as np\n",
    "import torch\n",
    "import gym\n",
    "import argparse\n",
    "import os\n",
    "import time\n",
    "\n",
    "from td3_agent import TD3\n",
    "\n",
    "env = gym.make('BipedalWalker-v3')\n",
    "\n",
    "# Set seeds\n",
    "seed = 12345\n",
    "env.seed(seed)\n",
    "torch.manual_seed(seed)\n",
    "np.random.seed(seed)\n",
    "\n",
    "state_size = env.observation_space.shape[0]\n",
    "action_size=env.action_space.shape[0]\n",
    "action_high= float(env.action_space.high[0])\n",
    "print('state_size: ', state_size, ', action_size: ', action_size, ', action_high: ', action_high)\n",
    "    \n",
    "agent = TD3(state_dim=state_size, action_dim=action_size, max_action=action_high, hidden_dim = [400,300])\n"
   ]
  },
  {
   "cell_type": "markdown",
   "metadata": {},
   "source": [
    "### 2. Prepare Load"
   ]
  },
  {
   "cell_type": "code",
   "execution_count": 2,
   "metadata": {},
   "outputs": [],
   "source": [
    "def load(agent, dir, prefix):\n",
    "    agent.actor.load_state_dict(\n",
    "        torch.load(os.path.join(dir,'%s_actor.pth' % prefix)))\n",
    "    agent.critic.load_state_dict(\n",
    "        torch.load(os.path.join(dir,'%s_critic.pth' % prefix)))\n",
    "    agent.actor_target.load_state_dict(\n",
    "        torch.load(os.path.join(dir,'%s_actor_t.pth' % prefix)))\n",
    "    agent.critic_target.load_state_dict(\n",
    "        torch.load(os.path.join(dir,'%s_critic_t.pth' % prefix)))\n",
    "base_old = \"dir_chk_td3_old\"\n",
    "base_dir = \"dir_chk_td3\""
   ]
  },
  {
   "cell_type": "code",
   "execution_count": 5,
   "metadata": {},
   "outputs": [],
   "source": [
    "import torch.nn as nn\n",
    "class Critic(nn.Module):\n",
    "    def __init__(self, state_dim, action_dim):\n",
    "        super(Critic, self).__init__()\n",
    "\n",
    "        # Q1 architecture\n",
    "        self.l1 = nn.Linear(state_dim + action_dim, 400)\n",
    "        self.l2 = nn.Linear(400, 300)\n",
    "        self.l3 = nn.Linear(300, 1)\n",
    "\n",
    "        # Q2 architecture\n",
    "        self.l4 = nn.Linear(state_dim + action_dim, 400)\n",
    "        self.l5 = nn.Linear(400, 300)\n",
    "        self.l6 = nn.Linear(300, 1)\n",
    "\n",
    "\n",
    "    def forward(self, x, u):\n",
    "        xu = torch.cat([x, u], 1)\n",
    "\n",
    "        x1 = F.relu(self.l1(xu))\n",
    "        x1 = F.relu(self.l2(x1))\n",
    "        x1 = self.l3(x1)\n",
    "\n",
    "        x2 = F.relu(self.l4(xu))\n",
    "        x2 = F.relu(self.l5(x2))\n",
    "        x2 = self.l6(x2)\n",
    "        return x1, x2\n",
    "class DeterministicActor(nn.Module):\n",
    "    def __init__(self, state_dim, action_dim, max_action):\n",
    "        super(DeterministicActor, self).__init__()\n",
    "\n",
    "        self.l1 = nn.Linear(state_dim, 400)\n",
    "        self.l2 = nn.Linear(400, 300)\n",
    "        self.l3 = nn.Linear(300, action_dim)\n",
    "\n",
    "        self.max_action = max_action\n",
    "\n",
    "    def forward(self, x):\n",
    "        x = F.relu(self.l1(x))\n",
    "        x = F.relu(self.l2(x))\n",
    "        x = self.max_action * torch.tanh(self.l3(x))\n",
    "        return x\n"
   ]
  },
  {
   "cell_type": "code",
   "execution_count": 6,
   "metadata": {},
   "outputs": [],
   "source": [
    "def convert_baseq(model):\n",
    "    model.linear1 = model.l1\n",
    "    model.linear2 = model.l2\n",
    "    model.linear3 = model.l3\n",
    "    model.linear4 = model.l4\n",
    "    model.linear5 = model.l5\n",
    "    model.linear6 = model.l6\n",
    "    del model.l1\n",
    "    del model.l2\n",
    "    del model.l3\n",
    "    del model.l4\n",
    "    del model.l5\n",
    "    del model.l6\n",
    "\n",
    "def convert_basea(model):\n",
    "    model.linear1 = model.l1\n",
    "    model.linear2 = model.l2\n",
    "    model.linear3 = model.l3\n",
    "    del model.l1\n",
    "    del model.l2\n",
    "    del model.l3"
   ]
  },
  {
   "cell_type": "code",
   "execution_count": 7,
   "metadata": {},
   "outputs": [],
   "source": [
    "\n",
    "def convert_base2(agent,dir,prefix):\n",
    "    base_new = 'dir_chk_td3'\n",
    "    critic = Critic(24,4)\n",
    "    critic_target= Critic(24,4)\n",
    "    actor = DeterministicActor(24,4,1)\n",
    "    actor_target = DeterministicActor(24,4,1)\n",
    "    critic.load_state_dict(\n",
    "        torch.load(os.path.join(dir,'%s_critic.pth' % prefix)))\n",
    "    critic_target.load_state_dict(\n",
    "        torch.load(os.path.join(dir,'%s_critic_t.pth' % prefix)))\n",
    "    actor.load_state_dict(\n",
    "        torch.load(os.path.join(dir,'%s_actor.pth' % prefix)))\n",
    "    actor_target.load_state_dict(\n",
    "        torch.load(os.path.join(dir,'%s_actor_t.pth' % prefix)))\n",
    "    convert_baseq(critic)\n",
    "    convert_baseq(critic_target)\n",
    "    convert_basea(actor)\n",
    "    convert_basea(actor_target)\n",
    "    \n",
    "    torch.save(critic.state_dict(),os.path.join(base_new,'%s_critic.pth' % prefix))\n",
    "    torch.save(critic_target.state_dict(),os.path.join(base_new,'%s_critic_t.pth' % prefix))\n",
    "    torch.save(actor.state_dict(),os.path.join(base_new,'%s_actor.pth' % prefix))\n",
    "    torch.save(actor_target.state_dict(),os.path.join(base_new,'%s_actor_t.pth' % prefix))"
   ]
  },
  {
   "cell_type": "code",
   "execution_count": 8,
   "metadata": {},
   "outputs": [],
   "source": [
    "# convert_base2(0,base_old,'checkpoint_293')"
   ]
  },
  {
   "cell_type": "markdown",
   "metadata": {},
   "source": [
    "### 3. Prepare Player"
   ]
  },
  {
   "cell_type": "code",
   "execution_count": 3,
   "metadata": {},
   "outputs": [],
   "source": [
    "from collections import deque\n",
    "import os\n",
    "\n",
    "def play(env, agent, n_episodes):\n",
    "    state = env.reset()\n",
    "    \n",
    "    scores_deque = deque(maxlen=100)\n",
    "    scores = []\n",
    "\n",
    "    for i_episode in range(1, n_episodes+1):\n",
    "        state = env.reset()        \n",
    "        score = 0\n",
    "        \n",
    "        time_start = time.time()\n",
    "        \n",
    "        while True:\n",
    "            action = agent.select_action(np.array(state))\n",
    "            env.render()\n",
    "            next_state, reward, done, _ = env.step(action)\n",
    "            state = next_state\n",
    "            score += reward\n",
    "            if done:\n",
    "                break \n",
    "\n",
    "        s = (int)(time.time() - time_start)\n",
    "        \n",
    "        scores_deque.append(score)\n",
    "        scores.append(score)\n",
    "    \n",
    "        print('Episode {}\\tAverage Score: {:.2f},\\tScore: {:.2f} \\tTime: {:02}:{:02}:{:02}'\\\n",
    "                  .format(i_episode, np.mean(scores_deque), score, s//3600, s%3600//60, s%60))  \n",
    "    env.close()"
   ]
  },
  {
   "cell_type": "markdown",
   "metadata": {},
   "source": [
    "### 3. Load and Play: Score = 293"
   ]
  },
  {
   "cell_type": "code",
   "execution_count": 4,
   "metadata": {},
   "outputs": [
    {
     "name": "stdout",
     "output_type": "stream",
     "text": [
      "Episode 1\tAverage Score: 295.46,\tScore: 295.46 \tTime: 00:00:13\n"
     ]
    }
   ],
   "source": [
    "load(agent, base_dir, 'checkpoint_293')\n",
    "play(env, agent, n_episodes=1)"
   ]
  },
  {
   "cell_type": "markdown",
   "metadata": {},
   "source": [
    "### 4. Load and Play: Score = 300.5,  training time = 9h 44m"
   ]
  },
  {
   "cell_type": "code",
   "execution_count": 17,
   "metadata": {},
   "outputs": [
    {
     "name": "stdout",
     "output_type": "stream",
     "text": [
      "Episode 1\tAverage Score: 305.03,\tScore: 305.03 \tTime: 00:00:12\n"
     ]
    }
   ],
   "source": [
    "load(agent, base_dir, 'chpnt_88seed_300-5sc_9h44m')\n",
    "play(env, agent, n_episodes=1)"
   ]
  },
  {
   "cell_type": "markdown",
   "metadata": {},
   "source": [
    "### 5. Load and Play: Score = 306"
   ]
  },
  {
   "cell_type": "code",
   "execution_count": 20,
   "metadata": {},
   "outputs": [
    {
     "name": "stdout",
     "output_type": "stream",
     "text": [
      "Episode 1\tAverage Score: 305.48,\tScore: 305.48 \tTime: 00:00:11\n"
     ]
    }
   ],
   "source": [
    "load(agent, base_dir, 'checkpoint_306')\n",
    "play(env, agent, n_episodes=1)"
   ]
  },
  {
   "cell_type": "code",
   "execution_count": 9,
   "metadata": {},
   "outputs": [],
   "source": [
    "env.close()"
   ]
  },
  {
   "cell_type": "code",
   "execution_count": null,
   "metadata": {},
   "outputs": [],
   "source": []
  }
 ],
 "metadata": {
  "kernelspec": {
   "display_name": "Python 3",
   "language": "python",
   "name": "python3"
  },
  "language_info": {
   "codemirror_mode": {
    "name": "ipython",
    "version": 3
   },
   "file_extension": ".py",
   "mimetype": "text/x-python",
   "name": "python",
   "nbconvert_exporter": "python",
   "pygments_lexer": "ipython3",
   "version": "3.7.5"
  }
 },
 "nbformat": 4,
 "nbformat_minor": 2
}
